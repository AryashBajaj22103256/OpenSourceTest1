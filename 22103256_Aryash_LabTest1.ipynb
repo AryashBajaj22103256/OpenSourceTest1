{
 "cells": [
  {
   "cell_type": "code",
   "execution_count": 1,
   "id": "55cf692d-4a3e-4630-9263-37a6200e5cd0",
   "metadata": {},
   "outputs": [
    {
     "name": "stdout",
     "output_type": "stream",
     "text": [
      "Aryash Bajaj, Roll Number - 22103256, Batch - B9, Even Set\n"
     ]
    }
   ],
   "source": [
    "print(\"Aryash Bajaj, Roll Number - 22103256, Batch - B9, Even Set\") "
   ]
  },
  {
   "cell_type": "code",
   "execution_count": 1,
   "id": "1a8ec112-6f39-4c14-8503-2bb0524c60e9",
   "metadata": {},
   "outputs": [],
   "source": [
    "import numpy as np\n",
    "import scipy as sc\n",
    "import matplotlib.pyplot as plt"
   ]
  },
  {
   "cell_type": "code",
   "execution_count": 124,
   "id": "58cc02a0-d006-4403-aa35-a8285e356e91",
   "metadata": {},
   "outputs": [
    {
     "name": "stdin",
     "output_type": "stream",
     "text": [
      "Enter employee salary -  400000\n",
      "Enter rating between 1 - 10 10\n",
      "Enter date for which attendance is being recorded (1 -30) -  21\n",
      "1 : Enter 1 if present or 0 if absent -  1\n",
      "2 : Enter 1 if present or 0 if absent -  1\n",
      "3 : Enter 1 if present or 0 if absent -  1\n",
      "4 : Enter 1 if present or 0 if absent -  1\n",
      "5 : Enter 1 if present or 0 if absent -  1\n",
      "6 : Enter 1 if present or 0 if absent -  1\n",
      "7 : Enter 1 if present or 0 if absent -  0\n",
      "8 : Enter 1 if present or 0 if absent -  0\n",
      "9 : Enter 1 if present or 0 if absent -  1\n",
      "10 : Enter 1 if present or 0 if absent -  1\n",
      "11 : Enter 1 if present or 0 if absent -  0\n",
      "Enter employee ID you want to update 8\n",
      "Enter updated performance rating for Employee 8 -  10\n"
     ]
    },
    {
     "name": "stdout",
     "output_type": "stream",
     "text": [
      "[ 3.39300588  4.34463066  8.29970682  3.40032656  8.43946994  5.65500237\n",
      "  2.69104394 10.          5.5950867   1.2913429  10.        ]\n",
      "Average Salary - 486211.76145488827\n",
      "Maximum salary - 691283.3366930359\n",
      "Minimum salary - 186164.4760597468\n",
      "Employee with highest salary - Employee 3\n",
      "Employee with lowest salary - Employee 6\n"
     ]
    },
    {
     "data": {
      "image/png": "[encoded data removed]",
      "text/plain": [
       "<Figure size 640x480 with 1 Axes>"
      ]
     },
     "metadata": {},
     "output_type": "display_data"
    }
   ],
   "source": [
    "class EmployeeManager :\n",
    "    def __init__(self, numEmployees) :\n",
    "        self.num = numEmployees\n",
    "        self.salary = np.random.normal(500000, 100000, numEmployees)\n",
    "        self.attendance = np.zeros((30, numEmployees))\n",
    "        self.performance = np.random.normal(5, 2, numEmployees)\n",
    "        self.employees = [\"placeholder\"] * numEmployees\n",
    "        for index in range(numEmployees) :\n",
    "            self.employees[index] = f\"Employee {index + 1}\"\n",
    "\n",
    "    def addEmployee(self) :\n",
    "        self.num += 1\n",
    "        salary = float(input(\"Enter employee salary - \"))\n",
    "        performance_rating = float(input(\"Enter rating between 1 - 10\"))\n",
    "        self.attendance = np.hstack((self.attendance, np.zeros((30, 1))))\n",
    "        self.salary = np.append(self.salary, salary)\n",
    "        self.performance = np.append(self.performance, performance_rating)\n",
    "\n",
    "    def updatePerformance(self) :\n",
    "        index = int(input(\"Enter employee ID you want to update\"))\n",
    "        if index < 1 or index > self.num :\n",
    "            print(\"ID not in database\")\n",
    "            return\n",
    "        rating = float(input(f\"Enter updated performance rating for {self.employees[index - 1]} - \"))\n",
    "        self.performance[index - 1] = rating\n",
    "        print(self.performance)\n",
    "\n",
    "    def addAttendance(self) :\n",
    "        day = int(input(\"Enter date for which attendance is being recorded (1 -30) - \")) - 1\n",
    "        for index in range(self.num) :\n",
    "            self.attendance[day, index] = int(input(f\"{index + 1} : Enter 1 if present or 0 if absent - \"))\n",
    "\n",
    "    def salaryReport(self) :\n",
    "        avg_salary = np.mean(self.salary, axis = 0)\n",
    "        max_salary = np.max(self.salary, axis = 0)\n",
    "        min_salary = np.min(self.salary, axis = 0)\n",
    "        print(f\"Average Salary - {avg_salary}\")\n",
    "        print(f\"Maximum salary - {max_salary}\")\n",
    "        print(f\"Minimum salary - {min_salary}\")\n",
    "\n",
    "    def HighestLowest(self) :\n",
    "        max_index = np.argmax(self.salary, axis = 0)\n",
    "        min_index = np.argmin(self.salary, axis = 0)\n",
    "        print(f\"Employee with highest salary - {self.employees[max_index]}\")\n",
    "        print(f\"Employee with lowest salary - {self.employees[min_index]}\")\n",
    "    def PlotPerformance(self) :\n",
    "        plt.scatter(np.arange(self.num) + 1, self.performance)\n",
    "        plt.xlabel(\"Employee ID\")\n",
    "        plt.ylabel(\"Performance rating for the past year\")\n",
    "        plt.show()\n",
    "\n",
    "    def printAll(self) :\n",
    "        print(self.num)\n",
    "        print(self.employees)\n",
    "        print(self.performance)\n",
    "        print(self.attendance)\n",
    "        print(self.salary)\n",
    "        \n",
    "emp = EmployeeManager(10)\n",
    "emp.addEmployee()\n",
    "emp.addAttendance()\n",
    "emp.updatePerformance()\n",
    "emp.salaryReport()\n",
    "emp.HighestLowest()\n",
    "emp.PlotPerformance()"
   ]
  }
 ],
 "metadata": {
  "kernelspec": {
   "display_name": "Python 3 (ipykernel)",
   "language": "python",
   "name": "python3"
  },
  "language_info": {
   "codemirror_mode": {
    "name": "ipython",
    "version": 3
   },
   "file_extension": ".py",
   "mimetype": "text/x-python",
   "name": "python",
   "nbconvert_exporter": "python",
   "pygments_lexer": "ipython3",
   "version": "3.12.4"
  }
 },
 "nbformat": 4,
 "nbformat_minor": 5
}
